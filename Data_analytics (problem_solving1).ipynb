{
 "cells": [
  {
   "cell_type": "markdown",
   "id": "e8b4d6df",
   "metadata": {},
   "source": [
    "**Question:**\n",
    "\n",
    "***Randomly generate a matrix of shape (1Million, 2) and perform below mentioned operations:***\n",
    "\n",
    "***a. Find the distances between each 2-Dimensional data point from the centroid (i.e. mean) of the given dataset. Append the newly calculated distances as new column with the given dataset.***\n",
    "\n",
    "***b. Given any data point, generate 3 closest neighbors from it.***"
   ]
  },
  {
   "cell_type": "code",
   "execution_count": 1,
   "id": "cd1c1c51",
   "metadata": {},
   "outputs": [],
   "source": [
    "import numpy as np"
   ]
  },
  {
   "cell_type": "code",
   "execution_count": 2,
   "id": "6ec9e765",
   "metadata": {},
   "outputs": [],
   "source": [
    "# step 1 : make a matrix of size (1000000, 2) randomly\n",
    "matrix = np.random.rand(1000000,2)"
   ]
  },
  {
   "cell_type": "code",
   "execution_count": 3,
   "id": "11e82b74",
   "metadata": {},
   "outputs": [
    {
     "data": {
      "text/plain": [
       "(array([[0.27877565, 0.10976973],\n",
       "        [0.9511969 , 0.46520706],\n",
       "        [0.92947834, 0.34761558],\n",
       "        ...,\n",
       "        [0.76408277, 0.32966261],\n",
       "        [0.78963753, 0.55806856],\n",
       "        [0.07886665, 0.81964271]]),\n",
       " (1000000, 2))"
      ]
     },
     "execution_count": 3,
     "metadata": {},
     "output_type": "execute_result"
    }
   ],
   "source": [
    "matrix, matrix.shape"
   ]
  },
  {
   "cell_type": "code",
   "execution_count": 4,
   "id": "863ee84c",
   "metadata": {},
   "outputs": [
    {
     "data": {
      "text/plain": [
       "array([0.50018289, 0.49990311])"
      ]
     },
     "execution_count": 4,
     "metadata": {},
     "output_type": "execute_result"
    }
   ],
   "source": [
    "# step 2 : find the centroid of the data (mean)\n",
    "\n",
    "# mean_x = np.mean(matrix[0])\n",
    "# mean_y = np.mean(matrix[1])\n",
    "\n",
    "# mean_x, mean_y\n",
    "centroid = np.mean(matrix, axis = 0)\n",
    "centroid"
   ]
  },
  {
   "cell_type": "code",
   "execution_count": 5,
   "id": "fd93f0fb",
   "metadata": {},
   "outputs": [
    {
     "name": "stdout",
     "output_type": "stream",
     "text": [
      "Wall time: 101 ms\n"
     ]
    }
   ],
   "source": [
    "%%time\n",
    "# step 3 : compute the distance between 2d datapoints and centroid(Numpy broadcasting)\n",
    "distance = np.sqrt(np.sum((matrix-centroid)**2, axis = 1)) # axis = 1 is across row "
   ]
  },
  {
   "cell_type": "code",
   "execution_count": 6,
   "id": "c2f2b095",
   "metadata": {},
   "outputs": [
    {
     "data": {
      "text/plain": [
       "(1000000,)"
      ]
     },
     "execution_count": 6,
     "metadata": {},
     "output_type": "execute_result"
    }
   ],
   "source": [
    "distance.shape"
   ]
  },
  {
   "cell_type": "code",
   "execution_count": 7,
   "id": "995a7d67",
   "metadata": {},
   "outputs": [
    {
     "data": {
      "text/plain": [
       "array([[0.27877565, 0.10976973, 0.44858135],\n",
       "       [0.9511969 , 0.46520706, 0.4523466 ],\n",
       "       [0.92947834, 0.34761558, 0.45550639],\n",
       "       ...,\n",
       "       [0.76408277, 0.32966261, 0.31404614],\n",
       "       [0.78963753, 0.55806856, 0.29524093],\n",
       "       [0.07886665, 0.81964271, 0.52890527]])"
      ]
     },
     "execution_count": 7,
     "metadata": {},
     "output_type": "execute_result"
    }
   ],
   "source": [
    "# step 4: add the distnace as a new column to our matrix\n",
    "np.hstack([matrix, distance.reshape(-1,1)])"
   ]
  },
  {
   "cell_type": "markdown",
   "id": "91faa26e",
   "metadata": {},
   "source": [
    "***b. Given any data point, generate 3 closest neighbors from it.***"
   ]
  },
  {
   "cell_type": "code",
   "execution_count": 8,
   "id": "f17c7db9",
   "metadata": {},
   "outputs": [],
   "source": [
    "test = np.random.rand(1,2)\n",
    "# Calculate distance between test data and all points in matrix\n",
    "distances = np.sqrt(np.sum((test - matrix)**2, axis = 1))\n",
    "n = 3\n",
    "min_indices = np.argpartition(distances,n-1)[:n]"
   ]
  },
  {
   "cell_type": "code",
   "execution_count": 9,
   "id": "c70ad211",
   "metadata": {},
   "outputs": [
    {
     "data": {
      "text/plain": [
       "array([ 58450, 209434, 904965], dtype=int64)"
      ]
     },
     "execution_count": 9,
     "metadata": {},
     "output_type": "execute_result"
    }
   ],
   "source": [
    "min_indices"
   ]
  },
  {
   "cell_type": "code",
   "execution_count": 10,
   "id": "642e8a94",
   "metadata": {},
   "outputs": [
    {
     "data": {
      "text/plain": [
       "array([0.00088926, 0.00112255, 0.00131193])"
      ]
     },
     "execution_count": 10,
     "metadata": {},
     "output_type": "execute_result"
    }
   ],
   "source": [
    "# minimum distances \n",
    "distances[min_indices]"
   ]
  },
  {
   "cell_type": "code",
   "execution_count": 11,
   "id": "2fde2c31",
   "metadata": {},
   "outputs": [
    {
     "data": {
      "text/plain": [
       "array([[0.12340026, 0.98196863],\n",
       "       [0.12149225, 0.98258468],\n",
       "       [0.12223147, 0.98343946]])"
      ]
     },
     "execution_count": 11,
     "metadata": {},
     "output_type": "execute_result"
    }
   ],
   "source": [
    "# points at minimum distance:\n",
    "matrix[min_indices]"
   ]
  }
 ],
 "metadata": {
  "kernelspec": {
   "display_name": "Python 3",
   "language": "python",
   "name": "python3"
  },
  "language_info": {
   "codemirror_mode": {
    "name": "ipython",
    "version": 3
   },
   "file_extension": ".py",
   "mimetype": "text/x-python",
   "name": "python",
   "nbconvert_exporter": "python",
   "pygments_lexer": "ipython3",
   "version": "3.8.8"
  }
 },
 "nbformat": 4,
 "nbformat_minor": 5
}
